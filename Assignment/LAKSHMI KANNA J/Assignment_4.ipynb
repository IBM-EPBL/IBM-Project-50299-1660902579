{
 "cells": [
  {
   "cell_type": "markdown",
   "id": "755c232d",
   "metadata": {
    "id": "755c232d"
   },
   "source": [
    "# Assignment 4"
   ]
  },
  {
   "cell_type": "markdown",
   "id": "848e9bd2",
   "metadata": {},
   "source": [
    "# Problem Statement : *Customer Segmentation Analysis*"
   ]
  },
  {
   "cell_type": "markdown",
   "id": "db014f4e",
   "metadata": {},
   "source": [
    "## You own the mall and want to understand the customers who can quickly converge [Target Customers] so that the insight can be given to the marketing team and plan the strategy accordingly. Perform the below Tasks to complete the assignment:-"
   ]
  },
  {
   "cell_type": "markdown",
   "id": "50d3d84c",
   "metadata": {},
   "source": [
    "# *Clustering the data\n",
    "# *by using the Classification Algorithms"
   ]
  },
  {
   "cell_type": "markdown",
   "id": "3ae24645",
   "metadata": {
    "id": "3ae24645"
   },
   "source": [
    "# 1.Download the dataset"
   ]
  },
  {
   "cell_type": "code",
   "execution_count": 1,
   "id": "1b9fe6dd",
   "metadata": {
    "id": "1b9fe6dd"
   },
   "outputs": [],
   "source": [
    "import pandas as pd\n",
    "import numpy as np\n",
    "import matplotlib.pyplot as plt\n",
    "import seaborn as sns"
   ]
  },
  {
   "cell_type": "markdown",
   "id": "4253df83",
   "metadata": {
    "id": "4253df83"
   },
   "source": [
    "# 2. Load the dataset"
   ]
  },
  {
   "cell_type": "code",
   "execution_count": 2,
   "id": "23f5edf3",
   "metadata": {
    "id": "23f5edf3"
   },
   "outputs": [],
   "source": [
    "data = pd.read_csv(r\"Mall_Customers.csv\")"
   ]
  },
  {
   "cell_type": "code",
   "execution_count": 3,
   "id": "f8a79274",
   "metadata": {
    "id": "f8a79274",
    "scrolled": true
   },
   "outputs": [
    {
     "data": {
      "text/html": [
       "<div>\n",
       "<style scoped>\n",
       "    .dataframe tbody tr th:only-of-type {\n",
       "        vertical-align: middle;\n",
       "    }\n",
       "\n",
       "    .dataframe tbody tr th {\n",
       "        vertical-align: top;\n",
       "    }\n",
       "\n",
       "    .dataframe thead th {\n",
       "        text-align: right;\n",
       "    }\n",
       "</style>\n",
       "<table border=\"1\" class=\"dataframe\">\n",
       "  <thead>\n",
       "    <tr style=\"text-align: right;\">\n",
       "      <th></th>\n",
       "      <th>CustomerID</th>\n",
       "      <th>Gender</th>\n",
       "      <th>Age</th>\n",
       "      <th>Annual Income (k$)</th>\n",
       "      <th>Spending Score (1-100)</th>\n",
       "    </tr>\n",
       "  </thead>\n",
       "  <tbody>\n",
       "    <tr>\n",
       "      <th>0</th>\n",
       "      <td>1</td>\n",
       "      <td>Male</td>\n",
       "      <td>19</td>\n",
       "      <td>15</td>\n",
       "      <td>39</td>\n",
       "    </tr>\n",
       "    <tr>\n",
       "      <th>1</th>\n",
       "      <td>2</td>\n",
       "      <td>Male</td>\n",
       "      <td>21</td>\n",
       "      <td>15</td>\n",
       "      <td>81</td>\n",
       "    </tr>\n",
       "    <tr>\n",
       "      <th>2</th>\n",
       "      <td>3</td>\n",
       "      <td>Female</td>\n",
       "      <td>20</td>\n",
       "      <td>16</td>\n",
       "      <td>6</td>\n",
       "    </tr>\n",
       "    <tr>\n",
       "      <th>3</th>\n",
       "      <td>4</td>\n",
       "      <td>Female</td>\n",
       "      <td>23</td>\n",
       "      <td>16</td>\n",
       "      <td>77</td>\n",
       "    </tr>\n",
       "    <tr>\n",
       "      <th>4</th>\n",
       "      <td>5</td>\n",
       "      <td>Female</td>\n",
       "      <td>31</td>\n",
       "      <td>17</td>\n",
       "      <td>40</td>\n",
       "    </tr>\n",
       "    <tr>\n",
       "      <th>5</th>\n",
       "      <td>6</td>\n",
       "      <td>Female</td>\n",
       "      <td>22</td>\n",
       "      <td>17</td>\n",
       "      <td>76</td>\n",
       "    </tr>\n",
       "    <tr>\n",
       "      <th>6</th>\n",
       "      <td>7</td>\n",
       "      <td>Female</td>\n",
       "      <td>35</td>\n",
       "      <td>18</td>\n",
       "      <td>6</td>\n",
       "    </tr>\n",
       "    <tr>\n",
       "      <th>7</th>\n",
       "      <td>8</td>\n",
       "      <td>Female</td>\n",
       "      <td>23</td>\n",
       "      <td>18</td>\n",
       "      <td>94</td>\n",
       "    </tr>\n",
       "    <tr>\n",
       "      <th>8</th>\n",
       "      <td>9</td>\n",
       "      <td>Male</td>\n",
       "      <td>64</td>\n",
       "      <td>19</td>\n",
       "      <td>3</td>\n",
       "    </tr>\n",
       "    <tr>\n",
       "      <th>9</th>\n",
       "      <td>10</td>\n",
       "      <td>Female</td>\n",
       "      <td>30</td>\n",
       "      <td>19</td>\n",
       "      <td>72</td>\n",
       "    </tr>\n",
       "  </tbody>\n",
       "</table>\n",
       "</div>"
      ],
      "text/plain": [
       "   CustomerID  Gender  Age  Annual Income (k$)  Spending Score (1-100)\n",
       "0           1    Male   19                  15                      39\n",
       "1           2    Male   21                  15                      81\n",
       "2           3  Female   20                  16                       6\n",
       "3           4  Female   23                  16                      77\n",
       "4           5  Female   31                  17                      40\n",
       "5           6  Female   22                  17                      76\n",
       "6           7  Female   35                  18                       6\n",
       "7           8  Female   23                  18                      94\n",
       "8           9    Male   64                  19                       3\n",
       "9          10  Female   30                  19                      72"
      ]
     },
     "execution_count": 3,
     "metadata": {},
     "output_type": "execute_result"
    }
   ],
   "source": [
    "data.head(10)"
   ]
  },
  {
   "cell_type": "markdown",
   "id": "e57b2d3d",
   "metadata": {
    "id": "e57b2d3d"
   },
   "source": [
    "# 3. Perform Below Visualizations."
   ]
  },
  {
   "cell_type": "markdown",
   "id": "8dc94c33",
   "metadata": {
    "id": "8dc94c33"
   },
   "source": [
    "### 1∙ Univariate Analysis"
   ]
  },
  {
   "cell_type": "code",
   "execution_count": 4,
   "id": "16dee427",
   "metadata": {
    "id": "16dee427",
    "outputId": "c582bb64-b857-4d0d-9ea4-bce7467de09b"
   },
   "outputs": [
    {
     "data": {
      "text/plain": [
       "(array([31., 19., 34., 29., 16., 26., 15., 10.,  6., 14.]),\n",
       " array([18. , 23.2, 28.4, 33.6, 38.8, 44. , 49.2, 54.4, 59.6, 64.8, 70. ]),\n",
       " <BarContainer object of 10 artists>)"
      ]
     },
     "execution_count": 4,
     "metadata": {},
     "output_type": "execute_result"
    },
    {
     "data": {
      "image/png": "[encoded data removed]",
      "text/plain": [
       "<Figure size 432x288 with 1 Axes>"
      ]
     },
     "metadata": {
      "needs_background": "light"
     },
     "output_type": "display_data"
    }
   ],
   "source": [
    "plt.hist(data['Age'])"
   ]
  },
  {
   "cell_type": "markdown",
   "id": "8a08b8d5",
   "metadata": {
    "id": "8a08b8d5"
   },
   "source": [
    "### ∙ Bi- Variate Analysis"
   ]
  },
  {
   "cell_type": "code",
   "execution_count": 5,
   "id": "788a5b44",
   "metadata": {
    "id": "788a5b44",
    "outputId": "6cf6a62c-fe63-4637-9ad7-cf9419bfdf00",
    "scrolled": true
   },
   "outputs": [
    {
     "data": {
      "text/plain": [
       "<matplotlib.collections.PathCollection at 0x1fec37e7e50>"
      ]
     },
     "execution_count": 5,
     "metadata": {},
     "output_type": "execute_result"
    },
    {
     "data": {
      "image/png": "[encoded data removed]",
      "text/plain": [
       "<Figure size 432x288 with 1 Axes>"
      ]
     },
     "metadata": {
      "needs_background": "light"
     },
     "output_type": "display_data"
    }
   ],
   "source": [
    "plt.scatter(data['Gender'],data['Annual Income (k$)'])"
   ]
  },
  {
   "cell_type": "markdown",
   "id": "1aabf1d0",
   "metadata": {
    "id": "1aabf1d0"
   },
   "source": [
    "### ∙ Multi-Variate Analysis"
   ]
  },
  {
   "cell_type": "code",
   "execution_count": 6,
   "id": "226e50da",
   "metadata": {
    "id": "226e50da",
    "outputId": "75f58c1f-f22c-4675-96a9-03b261aaa91e",
    "scrolled": true
   },
   "outputs": [
    {
     "data": {
      "text/plain": [
       "array([[<AxesSubplot:xlabel='Age', ylabel='Age'>,\n",
       "        <AxesSubplot:xlabel='Annual Income (k$)', ylabel='Age'>],\n",
       "       [<AxesSubplot:xlabel='Age', ylabel='Annual Income (k$)'>,\n",
       "        <AxesSubplot:xlabel='Annual Income (k$)', ylabel='Annual Income (k$)'>]],\n",
       "      dtype=object)"
      ]
     },
     "execution_count": 6,
     "metadata": {},
     "output_type": "execute_result"
    },
    {
     "data": {
      "image/png": "[encoded data removed]",
      "text/plain": [
       "<Figure size 720x720 with 4 Axes>"
      ]
     },
     "metadata": {
      "needs_background": "light"
     },
     "output_type": "display_data"
    }
   ],
   "source": [
    "pd.plotting.scatter_matrix(data.loc[:,\"Age\":\"Annual Income (k$)\"] , diagonal =\"kde\", figsize=(10,10))"
   ]
  },
  {
   "cell_type": "code",
   "execution_count": 7,
   "id": "439ddd74",
   "metadata": {},
   "outputs": [
    {
     "data": {
      "text/plain": [
       "<seaborn.axisgrid.PairGrid at 0x1fec380edf0>"
      ]
     },
     "execution_count": 7,
     "metadata": {},
     "output_type": "execute_result"
    },
    {
     "data": {
      "image/png": "[encoded data removed]",
      "text/plain": [
       "<Figure size 720x720 with 20 Axes>"
      ]
     },
     "metadata": {
      "needs_background": "light"
     },
     "output_type": "display_data"
    }
   ],
   "source": [
    "sns.pairplot(data)\n"
   ]
  },
  {
   "cell_type": "markdown",
   "id": "b7153f24",
   "metadata": {
    "id": "b7153f24"
   },
   "source": [
    "# 4. Perform descriptive statistics on the dataset."
   ]
  },
  {
   "cell_type": "code",
   "execution_count": 8,
   "id": "dd6ec149",
   "metadata": {
    "id": "dd6ec149",
    "outputId": "486dad04-a6bc-4a74-bb10-7e52f82c4f9d"
   },
   "outputs": [
    {
     "data": {
      "text/html": [
       "<div>\n",
       "<style scoped>\n",
       "    .dataframe tbody tr th:only-of-type {\n",
       "        vertical-align: middle;\n",
       "    }\n",
       "\n",
       "    .dataframe tbody tr th {\n",
       "        vertical-align: top;\n",
       "    }\n",
       "\n",
       "    .dataframe thead th {\n",
       "        text-align: right;\n",
       "    }\n",
       "</style>\n",
       "<table border=\"1\" class=\"dataframe\">\n",
       "  <thead>\n",
       "    <tr style=\"text-align: right;\">\n",
       "      <th></th>\n",
       "      <th>CustomerID</th>\n",
       "      <th>Age</th>\n",
       "      <th>Annual Income (k$)</th>\n",
       "      <th>Spending Score (1-100)</th>\n",
       "    </tr>\n",
       "  </thead>\n",
       "  <tbody>\n",
       "    <tr>\n",
       "      <th>count</th>\n",
       "      <td>200.000000</td>\n",
       "      <td>200.000000</td>\n",
       "      <td>200.000000</td>\n",
       "      <td>200.000000</td>\n",
       "    </tr>\n",
       "    <tr>\n",
       "      <th>mean</th>\n",
       "      <td>100.500000</td>\n",
       "      <td>38.850000</td>\n",
       "      <td>60.560000</td>\n",
       "      <td>50.200000</td>\n",
       "    </tr>\n",
       "    <tr>\n",
       "      <th>std</th>\n",
       "      <td>57.879185</td>\n",
       "      <td>13.969007</td>\n",
       "      <td>26.264721</td>\n",
       "      <td>25.823522</td>\n",
       "    </tr>\n",
       "    <tr>\n",
       "      <th>min</th>\n",
       "      <td>1.000000</td>\n",
       "      <td>18.000000</td>\n",
       "      <td>15.000000</td>\n",
       "      <td>1.000000</td>\n",
       "    </tr>\n",
       "    <tr>\n",
       "      <th>25%</th>\n",
       "      <td>50.750000</td>\n",
       "      <td>28.750000</td>\n",
       "      <td>41.500000</td>\n",
       "      <td>34.750000</td>\n",
       "    </tr>\n",
       "    <tr>\n",
       "      <th>50%</th>\n",
       "      <td>100.500000</td>\n",
       "      <td>36.000000</td>\n",
       "      <td>61.500000</td>\n",
       "      <td>50.000000</td>\n",
       "    </tr>\n",
       "    <tr>\n",
       "      <th>75%</th>\n",
       "      <td>150.250000</td>\n",
       "      <td>49.000000</td>\n",
       "      <td>78.000000</td>\n",
       "      <td>73.000000</td>\n",
       "    </tr>\n",
       "    <tr>\n",
       "      <th>max</th>\n",
       "      <td>200.000000</td>\n",
       "      <td>70.000000</td>\n",
       "      <td>137.000000</td>\n",
       "      <td>99.000000</td>\n",
       "    </tr>\n",
       "  </tbody>\n",
       "</table>\n",
       "</div>"
      ],
      "text/plain": [
       "       CustomerID         Age  Annual Income (k$)  Spending Score (1-100)\n",
       "count  200.000000  200.000000          200.000000              200.000000\n",
       "mean   100.500000   38.850000           60.560000               50.200000\n",
       "std     57.879185   13.969007           26.264721               25.823522\n",
       "min      1.000000   18.000000           15.000000                1.000000\n",
       "25%     50.750000   28.750000           41.500000               34.750000\n",
       "50%    100.500000   36.000000           61.500000               50.000000\n",
       "75%    150.250000   49.000000           78.000000               73.000000\n",
       "max    200.000000   70.000000          137.000000               99.000000"
      ]
     },
     "execution_count": 8,
     "metadata": {},
     "output_type": "execute_result"
    }
   ],
   "source": [
    "data.describe()"
   ]
  },
  {
   "cell_type": "code",
   "execution_count": 9,
   "id": "fde09c99",
   "metadata": {
    "id": "fde09c99",
    "outputId": "929410b4-700a-406c-b434-11b0df6f7ec4"
   },
   "outputs": [
    {
     "data": {
      "text/html": [
       "<div>\n",
       "<style scoped>\n",
       "    .dataframe tbody tr th:only-of-type {\n",
       "        vertical-align: middle;\n",
       "    }\n",
       "\n",
       "    .dataframe tbody tr th {\n",
       "        vertical-align: top;\n",
       "    }\n",
       "\n",
       "    .dataframe thead th {\n",
       "        text-align: right;\n",
       "    }\n",
       "</style>\n",
       "<table border=\"1\" class=\"dataframe\">\n",
       "  <thead>\n",
       "    <tr style=\"text-align: right;\">\n",
       "      <th></th>\n",
       "      <th>count</th>\n",
       "      <th>mean</th>\n",
       "      <th>std</th>\n",
       "      <th>min</th>\n",
       "      <th>25%</th>\n",
       "      <th>50%</th>\n",
       "      <th>75%</th>\n",
       "      <th>max</th>\n",
       "    </tr>\n",
       "  </thead>\n",
       "  <tbody>\n",
       "    <tr>\n",
       "      <th>CustomerID</th>\n",
       "      <td>200.0</td>\n",
       "      <td>100.50</td>\n",
       "      <td>57.879185</td>\n",
       "      <td>1.0</td>\n",
       "      <td>50.75</td>\n",
       "      <td>100.5</td>\n",
       "      <td>150.25</td>\n",
       "      <td>200.0</td>\n",
       "    </tr>\n",
       "    <tr>\n",
       "      <th>Age</th>\n",
       "      <td>200.0</td>\n",
       "      <td>38.85</td>\n",
       "      <td>13.969007</td>\n",
       "      <td>18.0</td>\n",
       "      <td>28.75</td>\n",
       "      <td>36.0</td>\n",
       "      <td>49.00</td>\n",
       "      <td>70.0</td>\n",
       "    </tr>\n",
       "    <tr>\n",
       "      <th>Annual Income (k$)</th>\n",
       "      <td>200.0</td>\n",
       "      <td>60.56</td>\n",
       "      <td>26.264721</td>\n",
       "      <td>15.0</td>\n",
       "      <td>41.50</td>\n",
       "      <td>61.5</td>\n",
       "      <td>78.00</td>\n",
       "      <td>137.0</td>\n",
       "    </tr>\n",
       "    <tr>\n",
       "      <th>Spending Score (1-100)</th>\n",
       "      <td>200.0</td>\n",
       "      <td>50.20</td>\n",
       "      <td>25.823522</td>\n",
       "      <td>1.0</td>\n",
       "      <td>34.75</td>\n",
       "      <td>50.0</td>\n",
       "      <td>73.00</td>\n",
       "      <td>99.0</td>\n",
       "    </tr>\n",
       "  </tbody>\n",
       "</table>\n",
       "</div>"
      ],
      "text/plain": [
       "                        count    mean        std   min    25%    50%     75%  \\\n",
       "CustomerID              200.0  100.50  57.879185   1.0  50.75  100.5  150.25   \n",
       "Age                     200.0   38.85  13.969007  18.0  28.75   36.0   49.00   \n",
       "Annual Income (k$)      200.0   60.56  26.264721  15.0  41.50   61.5   78.00   \n",
       "Spending Score (1-100)  200.0   50.20  25.823522   1.0  34.75   50.0   73.00   \n",
       "\n",
       "                          max  \n",
       "CustomerID              200.0  \n",
       "Age                      70.0  \n",
       "Annual Income (k$)      137.0  \n",
       "Spending Score (1-100)   99.0  "
      ]
     },
     "execution_count": 9,
     "metadata": {},
     "output_type": "execute_result"
    }
   ],
   "source": [
    "data.describe().T"
   ]
  },
  {
   "cell_type": "markdown",
   "id": "97ed7025",
   "metadata": {
    "id": "97ed7025"
   },
   "source": [
    "# 5. Check for Missing values and deal with them."
   ]
  },
  {
   "cell_type": "code",
   "execution_count": 10,
   "id": "f8a6ad05",
   "metadata": {
    "id": "f8a6ad05",
    "outputId": "40866b9b-694a-4312-e455-444c968dbc6e"
   },
   "outputs": [
    {
     "data": {
      "text/plain": [
       "CustomerID                0\n",
       "Gender                    0\n",
       "Age                       0\n",
       "Annual Income (k$)        0\n",
       "Spending Score (1-100)    0\n",
       "dtype: int64"
      ]
     },
     "execution_count": 10,
     "metadata": {},
     "output_type": "execute_result"
    }
   ],
   "source": [
    "data.isna().sum()"
   ]
  },
  {
   "cell_type": "markdown",
   "id": "acad58cb",
   "metadata": {
    "id": "acad58cb"
   },
   "source": [
    "# 6. Find the outliers and replace them outliers"
   ]
  },
  {
   "cell_type": "code",
   "execution_count": 11,
   "id": "45bcc770",
   "metadata": {
    "id": "45bcc770",
    "outputId": "ff1b82b5-3f26-457b-e486-37a399349a21"
   },
   "outputs": [
    {
     "data": {
      "text/plain": [
       "<AxesSubplot:xlabel='CustomerID'>"
      ]
     },
     "execution_count": 11,
     "metadata": {},
     "output_type": "execute_result"
    },
    {
     "data": {
      "image/png": "[encoded data removed]",
      "text/plain": [
       "<Figure size 1800x360 with 4 Axes>"
      ]
     },
     "metadata": {
      "needs_background": "light"
     },
     "output_type": "display_data"
    }
   ],
   "source": [
    "fig,ax=plt.subplots(figsize=(25,5))\n",
    "\n",
    "plt.subplot(1, 5, 2)\n",
    "sns.boxplot(x=data['Age'])\n",
    "\n",
    "plt.subplot(1, 5, 3)\n",
    "sns.boxplot(x=data['Annual Income (k$)'])\n",
    "\n",
    "plt.subplot(1, 5, 4)\n",
    "sns.boxplot(x=data['Spending Score (1-100)'])\n",
    "\n",
    "plt.subplot(1, 5, 1)\n",
    "sns.boxplot(x=data['CustomerID'])"
   ]
  },
  {
   "cell_type": "markdown",
   "id": "6718d9d0",
   "metadata": {
    "id": "6718d9d0"
   },
   "source": [
    "## Handling outlier"
   ]
  },
  {
   "cell_type": "code",
   "execution_count": 12,
   "id": "cf142f0b",
   "metadata": {
    "id": "cf142f0b",
    "outputId": "79df4150-f486-4228-d260-0f5696446207"
   },
   "outputs": [
    {
     "data": {
      "text/html": [
       "<div>\n",
       "<style scoped>\n",
       "    .dataframe tbody tr th:only-of-type {\n",
       "        vertical-align: middle;\n",
       "    }\n",
       "\n",
       "    .dataframe tbody tr th {\n",
       "        vertical-align: top;\n",
       "    }\n",
       "\n",
       "    .dataframe thead th {\n",
       "        text-align: right;\n",
       "    }\n",
       "</style>\n",
       "<table border=\"1\" class=\"dataframe\">\n",
       "  <thead>\n",
       "    <tr style=\"text-align: right;\">\n",
       "      <th></th>\n",
       "      <th>CustomerID</th>\n",
       "      <th>Age</th>\n",
       "      <th>Annual Income (k$)</th>\n",
       "      <th>Spending Score (1-100)</th>\n",
       "    </tr>\n",
       "  </thead>\n",
       "  <tbody>\n",
       "    <tr>\n",
       "      <th>0.25</th>\n",
       "      <td>50.75</td>\n",
       "      <td>28.75</td>\n",
       "      <td>41.5</td>\n",
       "      <td>34.75</td>\n",
       "    </tr>\n",
       "    <tr>\n",
       "      <th>0.75</th>\n",
       "      <td>150.25</td>\n",
       "      <td>49.00</td>\n",
       "      <td>78.0</td>\n",
       "      <td>73.00</td>\n",
       "    </tr>\n",
       "  </tbody>\n",
       "</table>\n",
       "</div>"
      ],
      "text/plain": [
       "      CustomerID    Age  Annual Income (k$)  Spending Score (1-100)\n",
       "0.25       50.75  28.75                41.5                   34.75\n",
       "0.75      150.25  49.00                78.0                   73.00"
      ]
     },
     "execution_count": 12,
     "metadata": {},
     "output_type": "execute_result"
    }
   ],
   "source": [
    "quant=data.quantile(q=[0.25,0.75])\n",
    "quant"
   ]
  },
  {
   "cell_type": "code",
   "execution_count": 13,
   "id": "a3843246",
   "metadata": {
    "id": "a3843246",
    "outputId": "2fc4eff3-e8ec-4005-952d-0e5f634b1369"
   },
   "outputs": [
    {
     "data": {
      "text/plain": [
       "CustomerID                150.25\n",
       "Age                        49.00\n",
       "Annual Income (k$)         78.00\n",
       "Spending Score (1-100)     73.00\n",
       "Name: 0.75, dtype: float64"
      ]
     },
     "execution_count": 13,
     "metadata": {},
     "output_type": "execute_result"
    }
   ],
   "source": [
    "quant.loc[0.75]"
   ]
  },
  {
   "cell_type": "code",
   "execution_count": 14,
   "id": "0aac4869",
   "metadata": {
    "id": "0aac4869",
    "outputId": "1235f18d-c4ff-4d92-aa5c-5facafd1f36d"
   },
   "outputs": [
    {
     "data": {
      "text/plain": [
       "CustomerID                50.75\n",
       "Age                       28.75\n",
       "Annual Income (k$)        41.50\n",
       "Spending Score (1-100)    34.75\n",
       "Name: 0.25, dtype: float64"
      ]
     },
     "execution_count": 14,
     "metadata": {},
     "output_type": "execute_result"
    }
   ],
   "source": [
    "quant.loc[0.25]"
   ]
  },
  {
   "cell_type": "code",
   "execution_count": 15,
   "id": "9dd9649c",
   "metadata": {
    "id": "9dd9649c",
    "outputId": "37b83a9b-fba6-4684-8361-8b8995131969"
   },
   "outputs": [
    {
     "data": {
      "text/plain": [
       "CustomerID                99.50\n",
       "Age                       20.25\n",
       "Annual Income (k$)        36.50\n",
       "Spending Score (1-100)    38.25\n",
       "dtype: float64"
      ]
     },
     "execution_count": 15,
     "metadata": {},
     "output_type": "execute_result"
    }
   ],
   "source": [
    "iqr=quant.loc[0.75]-quant.loc[0.25]\n",
    "iqr"
   ]
  },
  {
   "cell_type": "code",
   "execution_count": 16,
   "id": "87d6fd39",
   "metadata": {
    "id": "87d6fd39",
    "outputId": "19e944a7-3aa1-4891-a454-be2db3ea174c"
   },
   "outputs": [
    {
     "data": {
      "text/plain": [
       "CustomerID               -98.500\n",
       "Age                       -1.625\n",
       "Annual Income (k$)       -13.250\n",
       "Spending Score (1-100)   -22.625\n",
       "dtype: float64"
      ]
     },
     "execution_count": 16,
     "metadata": {},
     "output_type": "execute_result"
    }
   ],
   "source": [
    "low=quant.loc[0.25]-(1.5 *iqr)\n",
    "low"
   ]
  },
  {
   "cell_type": "code",
   "execution_count": 17,
   "id": "da5d37d2",
   "metadata": {
    "id": "da5d37d2",
    "outputId": "00850db9-58d3-4c07-da3f-74cac5e968ed"
   },
   "outputs": [
    {
     "data": {
      "text/plain": [
       "CustomerID                299.500\n",
       "Age                        79.375\n",
       "Annual Income (k$)        132.750\n",
       "Spending Score (1-100)    130.375\n",
       "dtype: float64"
      ]
     },
     "execution_count": 17,
     "metadata": {},
     "output_type": "execute_result"
    }
   ],
   "source": [
    "up=quant.loc[0.75]+(1.5 *iqr)\n",
    "up"
   ]
  },
  {
   "cell_type": "code",
   "execution_count": 18,
   "id": "d3f2fda9",
   "metadata": {
    "id": "d3f2fda9"
   },
   "outputs": [],
   "source": [
    "data['Annual Income (k$)']= np.where(data['Annual Income (k$)']>132,60,data['Annual Income (k$)'])"
   ]
  },
  {
   "cell_type": "code",
   "execution_count": 19,
   "id": "5aeb5451",
   "metadata": {
    "id": "5aeb5451",
    "outputId": "e9d5860a-35a1-4739-d12f-3831aee95425"
   },
   "outputs": [
    {
     "data": {
      "text/plain": [
       "<AxesSubplot:xlabel='Annual Income (k$)'>"
      ]
     },
     "execution_count": 19,
     "metadata": {},
     "output_type": "execute_result"
    },
    {
     "data": {
      "image/png": "[encoded data removed]",
      "text/plain": [
       "<Figure size 432x288 with 1 Axes>"
      ]
     },
     "metadata": {
      "needs_background": "light"
     },
     "output_type": "display_data"
    }
   ],
   "source": [
    "sns.boxplot(x=data['Annual Income (k$)'])"
   ]
  },
  {
   "cell_type": "markdown",
   "id": "f37589fc",
   "metadata": {
    "id": "f37589fc"
   },
   "source": [
    "# 7. Check for Categorical columns and perform encoding."
   ]
  },
  {
   "cell_type": "code",
   "execution_count": 20,
   "id": "26658b84",
   "metadata": {
    "id": "26658b84",
    "outputId": "8f335457-4d43-4e98-8d20-a2b9eb9e7165"
   },
   "outputs": [
    {
     "name": "stdout",
     "output_type": "stream",
     "text": [
      "<class 'pandas.core.frame.DataFrame'>\n",
      "RangeIndex: 200 entries, 0 to 199\n",
      "Data columns (total 5 columns):\n",
      " #   Column                  Non-Null Count  Dtype \n",
      "---  ------                  --------------  ----- \n",
      " 0   CustomerID              200 non-null    int64 \n",
      " 1   Gender                  200 non-null    object\n",
      " 2   Age                     200 non-null    int64 \n",
      " 3   Annual Income (k$)      200 non-null    int64 \n",
      " 4   Spending Score (1-100)  200 non-null    int64 \n",
      "dtypes: int64(4), object(1)\n",
      "memory usage: 7.9+ KB\n"
     ]
    }
   ],
   "source": [
    "data.info()"
   ]
  },
  {
   "cell_type": "code",
   "execution_count": 21,
   "id": "a1e0d1fc",
   "metadata": {
    "id": "a1e0d1fc",
    "outputId": "d14bbd82-dbb9-4959-94a6-59c42d7ff8f0"
   },
   "outputs": [
    {
     "data": {
      "text/plain": [
       "array(['Male', 'Female'], dtype=object)"
      ]
     },
     "execution_count": 21,
     "metadata": {},
     "output_type": "execute_result"
    }
   ],
   "source": [
    "data['Gender'].unique()"
   ]
  },
  {
   "cell_type": "code",
   "execution_count": 22,
   "id": "7f2f8f16",
   "metadata": {
    "id": "7f2f8f16"
   },
   "outputs": [],
   "source": [
    "data['Gender'].replace({'Male':1,\"Female\":0},inplace=True)"
   ]
  },
  {
   "cell_type": "code",
   "execution_count": 23,
   "id": "c4e8fbc7",
   "metadata": {
    "id": "c4e8fbc7",
    "outputId": "b66999ae-c559-4d4a-ebfa-af2fad3616c0"
   },
   "outputs": [
    {
     "data": {
      "text/html": [
       "<div>\n",
       "<style scoped>\n",
       "    .dataframe tbody tr th:only-of-type {\n",
       "        vertical-align: middle;\n",
       "    }\n",
       "\n",
       "    .dataframe tbody tr th {\n",
       "        vertical-align: top;\n",
       "    }\n",
       "\n",
       "    .dataframe thead th {\n",
       "        text-align: right;\n",
       "    }\n",
       "</style>\n",
       "<table border=\"1\" class=\"dataframe\">\n",
       "  <thead>\n",
       "    <tr style=\"text-align: right;\">\n",
       "      <th></th>\n",
       "      <th>CustomerID</th>\n",
       "      <th>Gender</th>\n",
       "      <th>Age</th>\n",
       "      <th>Annual Income (k$)</th>\n",
       "      <th>Spending Score (1-100)</th>\n",
       "    </tr>\n",
       "  </thead>\n",
       "  <tbody>\n",
       "    <tr>\n",
       "      <th>0</th>\n",
       "      <td>1</td>\n",
       "      <td>1</td>\n",
       "      <td>19</td>\n",
       "      <td>15</td>\n",
       "      <td>39</td>\n",
       "    </tr>\n",
       "    <tr>\n",
       "      <th>1</th>\n",
       "      <td>2</td>\n",
       "      <td>1</td>\n",
       "      <td>21</td>\n",
       "      <td>15</td>\n",
       "      <td>81</td>\n",
       "    </tr>\n",
       "    <tr>\n",
       "      <th>2</th>\n",
       "      <td>3</td>\n",
       "      <td>0</td>\n",
       "      <td>20</td>\n",
       "      <td>16</td>\n",
       "      <td>6</td>\n",
       "    </tr>\n",
       "    <tr>\n",
       "      <th>3</th>\n",
       "      <td>4</td>\n",
       "      <td>0</td>\n",
       "      <td>23</td>\n",
       "      <td>16</td>\n",
       "      <td>77</td>\n",
       "    </tr>\n",
       "    <tr>\n",
       "      <th>4</th>\n",
       "      <td>5</td>\n",
       "      <td>0</td>\n",
       "      <td>31</td>\n",
       "      <td>17</td>\n",
       "      <td>40</td>\n",
       "    </tr>\n",
       "    <tr>\n",
       "      <th>...</th>\n",
       "      <td>...</td>\n",
       "      <td>...</td>\n",
       "      <td>...</td>\n",
       "      <td>...</td>\n",
       "      <td>...</td>\n",
       "    </tr>\n",
       "    <tr>\n",
       "      <th>195</th>\n",
       "      <td>196</td>\n",
       "      <td>0</td>\n",
       "      <td>35</td>\n",
       "      <td>120</td>\n",
       "      <td>79</td>\n",
       "    </tr>\n",
       "    <tr>\n",
       "      <th>196</th>\n",
       "      <td>197</td>\n",
       "      <td>0</td>\n",
       "      <td>45</td>\n",
       "      <td>126</td>\n",
       "      <td>28</td>\n",
       "    </tr>\n",
       "    <tr>\n",
       "      <th>197</th>\n",
       "      <td>198</td>\n",
       "      <td>1</td>\n",
       "      <td>32</td>\n",
       "      <td>126</td>\n",
       "      <td>74</td>\n",
       "    </tr>\n",
       "    <tr>\n",
       "      <th>198</th>\n",
       "      <td>199</td>\n",
       "      <td>1</td>\n",
       "      <td>32</td>\n",
       "      <td>60</td>\n",
       "      <td>18</td>\n",
       "    </tr>\n",
       "    <tr>\n",
       "      <th>199</th>\n",
       "      <td>200</td>\n",
       "      <td>1</td>\n",
       "      <td>30</td>\n",
       "      <td>60</td>\n",
       "      <td>83</td>\n",
       "    </tr>\n",
       "  </tbody>\n",
       "</table>\n",
       "<p>200 rows × 5 columns</p>\n",
       "</div>"
      ],
      "text/plain": [
       "     CustomerID  Gender  Age  Annual Income (k$)  Spending Score (1-100)\n",
       "0             1       1   19                  15                      39\n",
       "1             2       1   21                  15                      81\n",
       "2             3       0   20                  16                       6\n",
       "3             4       0   23                  16                      77\n",
       "4             5       0   31                  17                      40\n",
       "..          ...     ...  ...                 ...                     ...\n",
       "195         196       0   35                 120                      79\n",
       "196         197       0   45                 126                      28\n",
       "197         198       1   32                 126                      74\n",
       "198         199       1   32                  60                      18\n",
       "199         200       1   30                  60                      83\n",
       "\n",
       "[200 rows x 5 columns]"
      ]
     },
     "execution_count": 23,
     "metadata": {},
     "output_type": "execute_result"
    }
   ],
   "source": [
    "data"
   ]
  },
  {
   "cell_type": "markdown",
   "id": "8a984913",
   "metadata": {
    "id": "8a984913"
   },
   "source": [
    "# 8. Scaling the data"
   ]
  },
  {
   "cell_type": "code",
   "execution_count": 24,
   "id": "8735fb43",
   "metadata": {
    "id": "8735fb43"
   },
   "outputs": [],
   "source": [
    "from sklearn.preprocessing import MinMaxScaler\n",
    "sc=MinMaxScaler()"
   ]
  },
  {
   "cell_type": "code",
   "execution_count": 25,
   "id": "a3284529",
   "metadata": {
    "id": "a3284529"
   },
   "outputs": [],
   "source": [
    "df=sc.fit_transform(data.iloc[:,1:])"
   ]
  },
  {
   "cell_type": "code",
   "execution_count": 26,
   "id": "2f29a211",
   "metadata": {
    "id": "2f29a211",
    "outputId": "1cb9d036-e2d2-4788-e5bb-6bc79e8be418"
   },
   "outputs": [
    {
     "data": {
      "text/plain": [
       "array([[1.        , 0.01923077, 0.        , 0.3877551 ],\n",
       "       [1.        , 0.05769231, 0.        , 0.81632653],\n",
       "       [0.        , 0.03846154, 0.00900901, 0.05102041],\n",
       "       [0.        , 0.09615385, 0.00900901, 0.7755102 ],\n",
       "       [0.        , 0.25      , 0.01801802, 0.39795918],\n",
       "       [0.        , 0.07692308, 0.01801802, 0.76530612],\n",
       "       [0.        , 0.32692308, 0.02702703, 0.05102041],\n",
       "       [0.        , 0.09615385, 0.02702703, 0.94897959],\n",
       "       [1.        , 0.88461538, 0.03603604, 0.02040816],\n",
       "       [0.        , 0.23076923, 0.03603604, 0.7244898 ],\n",
       "       [1.        , 0.94230769, 0.03603604, 0.13265306],\n",
       "       [0.        , 0.32692308, 0.03603604, 1.        ],\n",
       "       [0.        , 0.76923077, 0.04504505, 0.14285714],\n",
       "       [0.        , 0.11538462, 0.04504505, 0.7755102 ],\n",
       "       [1.        , 0.36538462, 0.04504505, 0.12244898],\n",
       "       [1.        , 0.07692308, 0.04504505, 0.79591837],\n",
       "       [0.        , 0.32692308, 0.05405405, 0.34693878],\n",
       "       [1.        , 0.03846154, 0.05405405, 0.66326531],\n",
       "       [1.        , 0.65384615, 0.07207207, 0.28571429],\n",
       "       [0.        , 0.32692308, 0.07207207, 0.98979592],\n",
       "       [1.        , 0.32692308, 0.08108108, 0.34693878],\n",
       "       [1.        , 0.13461538, 0.08108108, 0.73469388],\n",
       "       [0.        , 0.53846154, 0.09009009, 0.04081633],\n",
       "       [1.        , 0.25      , 0.09009009, 0.73469388],\n",
       "       [0.        , 0.69230769, 0.11711712, 0.13265306],\n",
       "       [1.        , 0.21153846, 0.11711712, 0.82653061],\n",
       "       [0.        , 0.51923077, 0.11711712, 0.31632653],\n",
       "       [1.        , 0.32692308, 0.11711712, 0.6122449 ],\n",
       "       [0.        , 0.42307692, 0.12612613, 0.30612245],\n",
       "       [0.        , 0.09615385, 0.12612613, 0.87755102],\n",
       "       [1.        , 0.80769231, 0.13513514, 0.03061224],\n",
       "       [0.        , 0.05769231, 0.13513514, 0.73469388],\n",
       "       [1.        , 0.67307692, 0.16216216, 0.03061224],\n",
       "       [1.        , 0.        , 0.16216216, 0.92857143],\n",
       "       [0.        , 0.59615385, 0.16216216, 0.13265306],\n",
       "       [0.        , 0.05769231, 0.16216216, 0.81632653],\n",
       "       [0.        , 0.46153846, 0.17117117, 0.16326531],\n",
       "       [0.        , 0.23076923, 0.17117117, 0.73469388],\n",
       "       [0.        , 0.34615385, 0.1981982 , 0.25510204],\n",
       "       [0.        , 0.03846154, 0.1981982 , 0.75510204],\n",
       "       [0.        , 0.90384615, 0.20720721, 0.34693878],\n",
       "       [1.        , 0.11538462, 0.20720721, 0.92857143],\n",
       "       [1.        , 0.57692308, 0.21621622, 0.35714286],\n",
       "       [0.        , 0.25      , 0.21621622, 0.6122449 ],\n",
       "       [0.        , 0.59615385, 0.21621622, 0.2755102 ],\n",
       "       [0.        , 0.11538462, 0.21621622, 0.65306122],\n",
       "       [0.        , 0.61538462, 0.22522523, 0.55102041],\n",
       "       [0.        , 0.17307692, 0.22522523, 0.46938776],\n",
       "       [0.        , 0.21153846, 0.22522523, 0.41836735],\n",
       "       [0.        , 0.25      , 0.22522523, 0.41836735],\n",
       "       [0.        , 0.59615385, 0.24324324, 0.52040816],\n",
       "       [1.        , 0.28846154, 0.24324324, 0.60204082],\n",
       "       [0.        , 0.25      , 0.25225225, 0.54081633],\n",
       "       [1.        , 0.78846154, 0.25225225, 0.60204082],\n",
       "       [0.        , 0.61538462, 0.25225225, 0.44897959],\n",
       "       [1.        , 0.55769231, 0.25225225, 0.40816327],\n",
       "       [0.        , 0.63461538, 0.26126126, 0.5       ],\n",
       "       [1.        , 0.98076923, 0.26126126, 0.45918367],\n",
       "       [0.        , 0.17307692, 0.27927928, 0.51020408],\n",
       "       [1.        , 0.67307692, 0.27927928, 0.45918367],\n",
       "       [1.        , 1.        , 0.27927928, 0.56122449],\n",
       "       [1.        , 0.01923077, 0.27927928, 0.55102041],\n",
       "       [0.        , 0.94230769, 0.28828829, 0.52040816],\n",
       "       [0.        , 0.69230769, 0.28828829, 0.59183673],\n",
       "       [1.        , 0.86538462, 0.2972973 , 0.51020408],\n",
       "       [1.        , 0.        , 0.2972973 , 0.59183673],\n",
       "       [0.        , 0.48076923, 0.2972973 , 0.5       ],\n",
       "       [0.        , 0.96153846, 0.2972973 , 0.47959184],\n",
       "       [1.        , 0.01923077, 0.2972973 , 0.59183673],\n",
       "       [0.        , 0.26923077, 0.2972973 , 0.46938776],\n",
       "       [1.        , 1.        , 0.30630631, 0.55102041],\n",
       "       [0.        , 0.55769231, 0.30630631, 0.41836735],\n",
       "       [0.        , 0.80769231, 0.31531532, 0.48979592],\n",
       "       [0.        , 0.80769231, 0.31531532, 0.56122449],\n",
       "       [1.        , 0.78846154, 0.35135135, 0.46938776],\n",
       "       [1.        , 0.15384615, 0.35135135, 0.54081633],\n",
       "       [0.        , 0.51923077, 0.35135135, 0.53061224],\n",
       "       [1.        , 0.42307692, 0.35135135, 0.47959184],\n",
       "       [0.        , 0.09615385, 0.35135135, 0.52040816],\n",
       "       [0.        , 0.59615385, 0.35135135, 0.41836735],\n",
       "       [1.        , 0.75      , 0.35135135, 0.51020408],\n",
       "       [1.        , 0.38461538, 0.35135135, 0.55102041],\n",
       "       [1.        , 0.94230769, 0.35135135, 0.40816327],\n",
       "       [0.        , 0.53846154, 0.35135135, 0.43877551],\n",
       "       [0.        , 0.05769231, 0.35135135, 0.57142857],\n",
       "       [1.        , 0.57692308, 0.35135135, 0.45918367],\n",
       "       [0.        , 0.71153846, 0.37837838, 0.58163265],\n",
       "       [0.        , 0.07692308, 0.37837838, 0.55102041],\n",
       "       [0.        , 0.30769231, 0.38738739, 0.60204082],\n",
       "       [0.        , 0.61538462, 0.38738739, 0.45918367],\n",
       "       [0.        , 0.96153846, 0.3963964 , 0.55102041],\n",
       "       [1.        , 0.        , 0.3963964 , 0.40816327],\n",
       "       [1.        , 0.57692308, 0.40540541, 0.48979592],\n",
       "       [0.        , 0.42307692, 0.40540541, 0.39795918],\n",
       "       [0.        , 0.26923077, 0.40540541, 0.41836735],\n",
       "       [1.        , 0.11538462, 0.40540541, 0.52040816],\n",
       "       [0.        , 0.55769231, 0.40540541, 0.46938776],\n",
       "       [0.        , 0.17307692, 0.40540541, 0.5       ],\n",
       "       [1.        , 0.57692308, 0.41441441, 0.41836735],\n",
       "       [1.        , 0.03846154, 0.41441441, 0.48979592],\n",
       "       [0.        , 0.09615385, 0.42342342, 0.40816327],\n",
       "       [0.        , 0.59615385, 0.42342342, 0.47959184],\n",
       "       [1.        , 0.94230769, 0.42342342, 0.59183673],\n",
       "       [1.        , 0.15384615, 0.42342342, 0.55102041],\n",
       "       [1.        , 0.59615385, 0.42342342, 0.56122449],\n",
       "       [0.        , 0.05769231, 0.42342342, 0.41836735],\n",
       "       [0.        , 0.92307692, 0.43243243, 0.5       ],\n",
       "       [1.        , 0.69230769, 0.43243243, 0.45918367],\n",
       "       [1.        , 0.96153846, 0.43243243, 0.42857143],\n",
       "       [1.        , 0.92307692, 0.43243243, 0.47959184],\n",
       "       [1.        , 0.90384615, 0.43243243, 0.52040816],\n",
       "       [0.        , 0.01923077, 0.43243243, 0.54081633],\n",
       "       [0.        , 0.38461538, 0.44144144, 0.41836735],\n",
       "       [1.        , 0.01923077, 0.44144144, 0.45918367],\n",
       "       [0.        , 0.        , 0.45045045, 0.47959184],\n",
       "       [0.        , 0.01923077, 0.45045045, 0.5       ],\n",
       "       [0.        , 0.86538462, 0.45045045, 0.42857143],\n",
       "       [0.        , 0.59615385, 0.45045045, 0.59183673],\n",
       "       [0.        , 0.63461538, 0.46846847, 0.42857143],\n",
       "       [0.        , 0.61538462, 0.46846847, 0.57142857],\n",
       "       [1.        , 0.17307692, 0.46846847, 0.56122449],\n",
       "       [0.        , 0.38461538, 0.46846847, 0.39795918],\n",
       "       [0.        , 0.42307692, 0.48648649, 0.58163265],\n",
       "       [1.        , 0.40384615, 0.48648649, 0.91836735],\n",
       "       [0.        , 0.09615385, 0.4954955 , 0.28571429],\n",
       "       [0.        , 0.25      , 0.4954955 , 0.7755102 ],\n",
       "       [1.        , 0.48076923, 0.5045045 , 0.34693878],\n",
       "       [1.        , 0.42307692, 0.5045045 , 0.95918367],\n",
       "       [1.        , 0.78846154, 0.5045045 , 0.10204082],\n",
       "       [1.        , 0.38461538, 0.5045045 , 0.75510204],\n",
       "       [1.        , 0.55769231, 0.5045045 , 0.08163265],\n",
       "       [1.        , 0.40384615, 0.5045045 , 0.75510204],\n",
       "       [0.        , 0.13461538, 0.51351351, 0.33673469],\n",
       "       [0.        , 0.25      , 0.51351351, 0.71428571],\n",
       "       [1.        , 0.03846154, 0.52252252, 0.04081633],\n",
       "       [0.        , 0.21153846, 0.52252252, 0.8877551 ],\n",
       "       [0.        , 0.5       , 0.52252252, 0.06122449],\n",
       "       [1.        , 0.26923077, 0.52252252, 0.73469388],\n",
       "       [1.        , 0.01923077, 0.53153153, 0.09183673],\n",
       "       [0.        , 0.32692308, 0.53153153, 0.7244898 ],\n",
       "       [0.        , 0.75      , 0.54054054, 0.04081633],\n",
       "       [1.        , 0.26923077, 0.54054054, 0.93877551],\n",
       "       [0.        , 0.19230769, 0.54954955, 0.39795918],\n",
       "       [0.        , 0.26923077, 0.54954955, 0.87755102],\n",
       "       [1.        , 0.13461538, 0.55855856, 0.1122449 ],\n",
       "       [1.        , 0.19230769, 0.55855856, 0.97959184],\n",
       "       [1.        , 0.57692308, 0.55855856, 0.35714286],\n",
       "       [0.        , 0.26923077, 0.55855856, 0.74489796],\n",
       "       [0.        , 0.30769231, 0.56756757, 0.21428571],\n",
       "       [1.        , 0.30769231, 0.56756757, 0.90816327],\n",
       "       [1.        , 0.48076923, 0.56756757, 0.16326531],\n",
       "       [1.        , 0.40384615, 0.56756757, 0.8877551 ],\n",
       "       [0.        , 0.5       , 0.56756757, 0.19387755],\n",
       "       [0.        , 0.38461538, 0.56756757, 0.76530612],\n",
       "       [0.        , 0.55769231, 0.56756757, 0.15306122],\n",
       "       [0.        , 0.17307692, 0.56756757, 0.89795918],\n",
       "       [1.        , 0.36538462, 0.56756757, 0.        ],\n",
       "       [0.        , 0.23076923, 0.56756757, 0.78571429],\n",
       "       [1.        , 0.30769231, 0.56756757, 0.        ],\n",
       "       [0.        , 0.23076923, 0.56756757, 0.73469388],\n",
       "       [0.        , 0.73076923, 0.57657658, 0.34693878],\n",
       "       [0.        , 0.21153846, 0.57657658, 0.83673469],\n",
       "       [1.        , 0.01923077, 0.59459459, 0.04081633],\n",
       "       [0.        , 0.25      , 0.59459459, 0.93877551],\n",
       "       [1.        , 0.61538462, 0.63063063, 0.25510204],\n",
       "       [0.        , 0.34615385, 0.63063063, 0.75510204],\n",
       "       [1.        , 0.46153846, 0.63963964, 0.19387755],\n",
       "       [0.        , 0.28846154, 0.63963964, 0.95918367],\n",
       "       [0.        , 0.34615385, 0.64864865, 0.26530612],\n",
       "       [1.        , 0.26923077, 0.64864865, 0.63265306],\n",
       "       [1.        , 0.42307692, 0.64864865, 0.12244898],\n",
       "       [1.        , 0.19230769, 0.64864865, 0.75510204],\n",
       "       [1.        , 0.34615385, 0.64864865, 0.09183673],\n",
       "       [1.        , 0.34615385, 0.64864865, 0.92857143],\n",
       "       [0.        , 0.65384615, 0.65765766, 0.12244898],\n",
       "       [0.        , 0.23076923, 0.65765766, 0.86734694],\n",
       "       [1.        , 0.76923077, 0.65765766, 0.14285714],\n",
       "       [1.        , 0.17307692, 0.65765766, 0.69387755],\n",
       "       [1.        , 0.78846154, 0.7027027 , 0.13265306],\n",
       "       [1.        , 0.32692308, 0.7027027 , 0.90816327],\n",
       "       [0.        , 0.36538462, 0.73873874, 0.31632653],\n",
       "       [0.        , 0.26923077, 0.73873874, 0.86734694],\n",
       "       [1.        , 0.53846154, 0.74774775, 0.14285714],\n",
       "       [0.        , 0.21153846, 0.74774775, 0.8877551 ],\n",
       "       [0.        , 0.44230769, 0.75675676, 0.3877551 ],\n",
       "       [1.        , 0.23076923, 0.75675676, 0.97959184],\n",
       "       [0.        , 0.69230769, 0.77477477, 0.23469388],\n",
       "       [1.        , 0.19230769, 0.77477477, 0.68367347],\n",
       "       [0.        , 0.44230769, 0.79279279, 0.16326531],\n",
       "       [0.        , 0.34615385, 0.79279279, 0.85714286],\n",
       "       [0.        , 0.30769231, 0.79279279, 0.2244898 ],\n",
       "       [0.        , 0.26923077, 0.79279279, 0.69387755],\n",
       "       [1.        , 0.28846154, 0.88288288, 0.07142857],\n",
       "       [0.        , 0.38461538, 0.88288288, 0.91836735],\n",
       "       [0.        , 0.55769231, 0.94594595, 0.15306122],\n",
       "       [0.        , 0.32692308, 0.94594595, 0.79591837],\n",
       "       [0.        , 0.51923077, 1.        , 0.2755102 ],\n",
       "       [1.        , 0.26923077, 1.        , 0.74489796],\n",
       "       [1.        , 0.26923077, 0.40540541, 0.17346939],\n",
       "       [1.        , 0.23076923, 0.40540541, 0.83673469]])"
      ]
     },
     "execution_count": 26,
     "metadata": {},
     "output_type": "execute_result"
    }
   ],
   "source": [
    "df"
   ]
  },
  {
   "cell_type": "markdown",
   "id": "8395e4ec",
   "metadata": {
    "id": "8395e4ec"
   },
   "source": [
    "# 9. Perform any of the clustering algorithms"
   ]
  },
  {
   "cell_type": "markdown",
   "id": "494a1b9c",
   "metadata": {
    "id": "494a1b9c"
   },
   "source": [
    "#### Kmeans_clustering"
   ]
  },
  {
   "cell_type": "code",
   "execution_count": 27,
   "id": "e53db14b",
   "metadata": {
    "id": "e53db14b"
   },
   "outputs": [],
   "source": [
    "from sklearn.cluster import KMeans"
   ]
  },
  {
   "cell_type": "code",
   "execution_count": 28,
   "id": "bcad85b9",
   "metadata": {
    "id": "bcad85b9"
   },
   "outputs": [],
   "source": [
    "TWSS=[]\n",
    "k=list(range(2,9))\n",
    "\n",
    "for i in k:\n",
    "    kmeans=KMeans(n_clusters=i,init='k-means++')\n",
    "    kmeans.fit(data)\n",
    "    TWSS.append(kmeans.inertia_)"
   ]
  },
  {
   "cell_type": "code",
   "execution_count": 29,
   "id": "596f5476",
   "metadata": {
    "id": "596f5476",
    "outputId": "7b759cb1-6be1-471a-d4b9-c18c2c54ed8e"
   },
   "outputs": [
    {
     "data": {
      "text/plain": [
       "[381550.6840684068,\n",
       " 268082.56760639744,\n",
       " 191630.05635683757,\n",
       " 153791.95873953708,\n",
       " 119223.63779954852,\n",
       " 101388.39788480637,\n",
       " 85773.02533022531]"
      ]
     },
     "execution_count": 29,
     "metadata": {},
     "output_type": "execute_result"
    }
   ],
   "source": [
    "TWSS"
   ]
  },
  {
   "cell_type": "code",
   "execution_count": 30,
   "id": "a91c6ab3",
   "metadata": {
    "id": "a91c6ab3",
    "outputId": "52f2f6bb-1cb3-4025-e0f3-3e55550e7553"
   },
   "outputs": [
    {
     "data": {
      "text/plain": [
       "Text(0, 0.5, 'TWSS')"
      ]
     },
     "execution_count": 30,
     "metadata": {},
     "output_type": "execute_result"
    },
    {
     "data": {
      "image/png": "[encoded data removed]",
      "text/plain": [
       "<Figure size 432x288 with 1 Axes>"
      ]
     },
     "metadata": {
      "needs_background": "light"
     },
     "output_type": "display_data"
    }
   ],
   "source": [
    "plt.plot(k,TWSS,'ro--')\n",
    "plt.xlabel('no of cluster')\n",
    "plt.ylabel('TWSS')"
   ]
  },
  {
   "cell_type": "code",
   "execution_count": 31,
   "id": "134037f3",
   "metadata": {
    "id": "134037f3",
    "outputId": "94113d8d-ecfc-4fbd-b51a-3a705fc4c99e"
   },
   "outputs": [
    {
     "data": {
      "text/plain": [
       "KMeans(n_clusters=4)"
      ]
     },
     "execution_count": 31,
     "metadata": {},
     "output_type": "execute_result"
    }
   ],
   "source": [
    "#selecting  4 clusters\n",
    "\n",
    "model=KMeans(n_clusters=4)\n",
    "\n",
    "model.fit(data)"
   ]
  },
  {
   "cell_type": "code",
   "execution_count": 32,
   "id": "ec8455f6",
   "metadata": {
    "id": "ec8455f6",
    "outputId": "c5641f9f-1a97-483e-a0f9-5f7b199e6104"
   },
   "outputs": [
    {
     "data": {
      "text/plain": [
       "array([2, 2, 2, 2, 2, 2, 2, 2, 2, 2, 2, 2, 2, 2, 2, 2, 2, 2, 2, 2, 2, 2,\n",
       "       2, 2, 2, 2, 2, 2, 2, 2, 2, 2, 2, 2, 2, 2, 2, 2, 2, 2, 2, 2, 2, 2,\n",
       "       2, 2, 2, 2, 2, 2, 2, 2, 2, 2, 2, 2, 2, 2, 2, 2, 0, 2, 0, 0, 0, 0,\n",
       "       0, 0, 0, 0, 0, 0, 0, 0, 0, 0, 0, 0, 0, 0, 0, 0, 0, 0, 0, 0, 0, 0,\n",
       "       0, 0, 0, 0, 0, 0, 0, 0, 0, 0, 0, 0, 0, 0, 0, 0, 0, 0, 0, 0, 0, 0,\n",
       "       0, 0, 0, 0, 0, 0, 0, 0, 0, 0, 0, 0, 0, 1, 0, 1, 0, 1, 3, 1, 3, 1,\n",
       "       3, 1, 3, 1, 3, 1, 3, 1, 3, 1, 3, 1, 3, 1, 3, 1, 3, 1, 3, 1, 3, 1,\n",
       "       3, 1, 3, 1, 3, 1, 3, 1, 3, 1, 3, 1, 3, 1, 3, 1, 3, 1, 3, 1, 3, 1,\n",
       "       3, 1, 3, 1, 3, 1, 3, 1, 3, 1, 3, 1, 3, 1, 3, 1, 3, 1, 3, 1, 3, 1,\n",
       "       3, 1])"
      ]
     },
     "execution_count": 32,
     "metadata": {},
     "output_type": "execute_result"
    }
   ],
   "source": [
    "model.labels_"
   ]
  },
  {
   "cell_type": "code",
   "execution_count": 33,
   "id": "053dd73a",
   "metadata": {
    "id": "053dd73a"
   },
   "outputs": [],
   "source": [
    "mb=pd.Series(model.labels_)"
   ]
  },
  {
   "cell_type": "code",
   "execution_count": 34,
   "id": "ee476632",
   "metadata": {
    "id": "ee476632",
    "outputId": "e8323827-58d5-4a94-f4e4-5b3a23bc0308"
   },
   "outputs": [
    {
     "data": {
      "text/html": [
       "<div>\n",
       "<style scoped>\n",
       "    .dataframe tbody tr th:only-of-type {\n",
       "        vertical-align: middle;\n",
       "    }\n",
       "\n",
       "    .dataframe tbody tr th {\n",
       "        vertical-align: top;\n",
       "    }\n",
       "\n",
       "    .dataframe thead th {\n",
       "        text-align: right;\n",
       "    }\n",
       "</style>\n",
       "<table border=\"1\" class=\"dataframe\">\n",
       "  <thead>\n",
       "    <tr style=\"text-align: right;\">\n",
       "      <th></th>\n",
       "      <th>CustomerID</th>\n",
       "      <th>Gender</th>\n",
       "      <th>Age</th>\n",
       "      <th>Annual Income (k$)</th>\n",
       "      <th>Spending Score (1-100)</th>\n",
       "    </tr>\n",
       "  </thead>\n",
       "  <tbody>\n",
       "    <tr>\n",
       "      <th>0</th>\n",
       "      <td>1</td>\n",
       "      <td>1</td>\n",
       "      <td>19</td>\n",
       "      <td>15</td>\n",
       "      <td>39</td>\n",
       "    </tr>\n",
       "    <tr>\n",
       "      <th>1</th>\n",
       "      <td>2</td>\n",
       "      <td>1</td>\n",
       "      <td>21</td>\n",
       "      <td>15</td>\n",
       "      <td>81</td>\n",
       "    </tr>\n",
       "    <tr>\n",
       "      <th>2</th>\n",
       "      <td>3</td>\n",
       "      <td>0</td>\n",
       "      <td>20</td>\n",
       "      <td>16</td>\n",
       "      <td>6</td>\n",
       "    </tr>\n",
       "  </tbody>\n",
       "</table>\n",
       "</div>"
      ],
      "text/plain": [
       "   CustomerID  Gender  Age  Annual Income (k$)  Spending Score (1-100)\n",
       "0           1       1   19                  15                      39\n",
       "1           2       1   21                  15                      81\n",
       "2           3       0   20                  16                       6"
      ]
     },
     "execution_count": 34,
     "metadata": {},
     "output_type": "execute_result"
    }
   ],
   "source": [
    "data.head(3)"
   ]
  },
  {
   "cell_type": "markdown",
   "id": "49ccef30",
   "metadata": {
    "id": "49ccef30"
   },
   "source": [
    "# 10. Add the cluster data with the primary dataset"
   ]
  },
  {
   "cell_type": "code",
   "execution_count": 35,
   "id": "80715661",
   "metadata": {
    "id": "80715661"
   },
   "outputs": [],
   "source": [
    "data['clust']=mb"
   ]
  },
  {
   "cell_type": "code",
   "execution_count": 36,
   "id": "0bc5b4b9",
   "metadata": {
    "id": "0bc5b4b9",
    "outputId": "57df2c29-e696-4858-8ebe-235b5fa13c8f"
   },
   "outputs": [
    {
     "data": {
      "text/html": [
       "<div>\n",
       "<style scoped>\n",
       "    .dataframe tbody tr th:only-of-type {\n",
       "        vertical-align: middle;\n",
       "    }\n",
       "\n",
       "    .dataframe tbody tr th {\n",
       "        vertical-align: top;\n",
       "    }\n",
       "\n",
       "    .dataframe thead th {\n",
       "        text-align: right;\n",
       "    }\n",
       "</style>\n",
       "<table border=\"1\" class=\"dataframe\">\n",
       "  <thead>\n",
       "    <tr style=\"text-align: right;\">\n",
       "      <th></th>\n",
       "      <th>CustomerID</th>\n",
       "      <th>Gender</th>\n",
       "      <th>Age</th>\n",
       "      <th>Annual Income (k$)</th>\n",
       "      <th>Spending Score (1-100)</th>\n",
       "      <th>clust</th>\n",
       "    </tr>\n",
       "  </thead>\n",
       "  <tbody>\n",
       "    <tr>\n",
       "      <th>0</th>\n",
       "      <td>1</td>\n",
       "      <td>1</td>\n",
       "      <td>19</td>\n",
       "      <td>15</td>\n",
       "      <td>39</td>\n",
       "      <td>2</td>\n",
       "    </tr>\n",
       "    <tr>\n",
       "      <th>1</th>\n",
       "      <td>2</td>\n",
       "      <td>1</td>\n",
       "      <td>21</td>\n",
       "      <td>15</td>\n",
       "      <td>81</td>\n",
       "      <td>2</td>\n",
       "    </tr>\n",
       "    <tr>\n",
       "      <th>2</th>\n",
       "      <td>3</td>\n",
       "      <td>0</td>\n",
       "      <td>20</td>\n",
       "      <td>16</td>\n",
       "      <td>6</td>\n",
       "      <td>2</td>\n",
       "    </tr>\n",
       "    <tr>\n",
       "      <th>3</th>\n",
       "      <td>4</td>\n",
       "      <td>0</td>\n",
       "      <td>23</td>\n",
       "      <td>16</td>\n",
       "      <td>77</td>\n",
       "      <td>2</td>\n",
       "    </tr>\n",
       "    <tr>\n",
       "      <th>4</th>\n",
       "      <td>5</td>\n",
       "      <td>0</td>\n",
       "      <td>31</td>\n",
       "      <td>17</td>\n",
       "      <td>40</td>\n",
       "      <td>2</td>\n",
       "    </tr>\n",
       "  </tbody>\n",
       "</table>\n",
       "</div>"
      ],
      "text/plain": [
       "   CustomerID  Gender  Age  Annual Income (k$)  Spending Score (1-100)  clust\n",
       "0           1       1   19                  15                      39      2\n",
       "1           2       1   21                  15                      81      2\n",
       "2           3       0   20                  16                       6      2\n",
       "3           4       0   23                  16                      77      2\n",
       "4           5       0   31                  17                      40      2"
      ]
     },
     "execution_count": 36,
     "metadata": {},
     "output_type": "execute_result"
    }
   ],
   "source": [
    "data.head()"
   ]
  },
  {
   "cell_type": "code",
   "execution_count": 37,
   "id": "c919ea1d",
   "metadata": {
    "id": "c919ea1d",
    "outputId": "9b9ac3fd-5368-403c-ac79-f9bac30ee7b5"
   },
   "outputs": [
    {
     "data": {
      "text/html": [
       "<div>\n",
       "<style scoped>\n",
       "    .dataframe tbody tr th:only-of-type {\n",
       "        vertical-align: middle;\n",
       "    }\n",
       "\n",
       "    .dataframe tbody tr th {\n",
       "        vertical-align: top;\n",
       "    }\n",
       "\n",
       "    .dataframe thead th {\n",
       "        text-align: right;\n",
       "    }\n",
       "</style>\n",
       "<table border=\"1\" class=\"dataframe\">\n",
       "  <thead>\n",
       "    <tr style=\"text-align: right;\">\n",
       "      <th></th>\n",
       "      <th>CustomerID</th>\n",
       "      <th>Gender</th>\n",
       "      <th>Age</th>\n",
       "      <th>Annual Income (k$)</th>\n",
       "      <th>Spending Score (1-100)</th>\n",
       "      <th>clust</th>\n",
       "    </tr>\n",
       "  </thead>\n",
       "  <tbody>\n",
       "    <tr>\n",
       "      <th>195</th>\n",
       "      <td>196</td>\n",
       "      <td>0</td>\n",
       "      <td>35</td>\n",
       "      <td>120</td>\n",
       "      <td>79</td>\n",
       "      <td>1</td>\n",
       "    </tr>\n",
       "    <tr>\n",
       "      <th>196</th>\n",
       "      <td>197</td>\n",
       "      <td>0</td>\n",
       "      <td>45</td>\n",
       "      <td>126</td>\n",
       "      <td>28</td>\n",
       "      <td>3</td>\n",
       "    </tr>\n",
       "    <tr>\n",
       "      <th>197</th>\n",
       "      <td>198</td>\n",
       "      <td>1</td>\n",
       "      <td>32</td>\n",
       "      <td>126</td>\n",
       "      <td>74</td>\n",
       "      <td>1</td>\n",
       "    </tr>\n",
       "    <tr>\n",
       "      <th>198</th>\n",
       "      <td>199</td>\n",
       "      <td>1</td>\n",
       "      <td>32</td>\n",
       "      <td>60</td>\n",
       "      <td>18</td>\n",
       "      <td>3</td>\n",
       "    </tr>\n",
       "    <tr>\n",
       "      <th>199</th>\n",
       "      <td>200</td>\n",
       "      <td>1</td>\n",
       "      <td>30</td>\n",
       "      <td>60</td>\n",
       "      <td>83</td>\n",
       "      <td>1</td>\n",
       "    </tr>\n",
       "  </tbody>\n",
       "</table>\n",
       "</div>"
      ],
      "text/plain": [
       "     CustomerID  Gender  Age  Annual Income (k$)  Spending Score (1-100)  \\\n",
       "195         196       0   35                 120                      79   \n",
       "196         197       0   45                 126                      28   \n",
       "197         198       1   32                 126                      74   \n",
       "198         199       1   32                  60                      18   \n",
       "199         200       1   30                  60                      83   \n",
       "\n",
       "     clust  \n",
       "195      1  \n",
       "196      3  \n",
       "197      1  \n",
       "198      3  \n",
       "199      1  "
      ]
     },
     "execution_count": 37,
     "metadata": {},
     "output_type": "execute_result"
    }
   ],
   "source": [
    "data.tail()"
   ]
  },
  {
   "cell_type": "markdown",
   "id": "bcf97bab",
   "metadata": {
    "id": "bcf97bab"
   },
   "source": [
    "# 11. Split the data into dependent and independent variables"
   ]
  },
  {
   "cell_type": "code",
   "execution_count": 38,
   "id": "5ffaa6fa",
   "metadata": {
    "id": "5ffaa6fa",
    "outputId": "ec49fab1-ceaf-4b14-c3f3-3cc05f6badb6"
   },
   "outputs": [
    {
     "data": {
      "text/plain": [
       "0      2\n",
       "1      2\n",
       "2      2\n",
       "3      2\n",
       "4      2\n",
       "      ..\n",
       "195    1\n",
       "196    3\n",
       "197    1\n",
       "198    3\n",
       "199    1\n",
       "Name: clust, Length: 200, dtype: int32"
      ]
     },
     "execution_count": 38,
     "metadata": {},
     "output_type": "execute_result"
    }
   ],
   "source": [
    "#dependent\n",
    "y= data['clust']\n",
    "y"
   ]
  },
  {
   "cell_type": "code",
   "execution_count": 39,
   "id": "3b4a49f2",
   "metadata": {
    "id": "3b4a49f2",
    "outputId": "16b39385-5b39-426f-b844-f4dba864240e"
   },
   "outputs": [
    {
     "data": {
      "text/html": [
       "<div>\n",
       "<style scoped>\n",
       "    .dataframe tbody tr th:only-of-type {\n",
       "        vertical-align: middle;\n",
       "    }\n",
       "\n",
       "    .dataframe tbody tr th {\n",
       "        vertical-align: top;\n",
       "    }\n",
       "\n",
       "    .dataframe thead th {\n",
       "        text-align: right;\n",
       "    }\n",
       "</style>\n",
       "<table border=\"1\" class=\"dataframe\">\n",
       "  <thead>\n",
       "    <tr style=\"text-align: right;\">\n",
       "      <th></th>\n",
       "      <th>Gender</th>\n",
       "      <th>Age</th>\n",
       "      <th>Annual Income (k$)</th>\n",
       "      <th>Spending Score (1-100)</th>\n",
       "    </tr>\n",
       "  </thead>\n",
       "  <tbody>\n",
       "    <tr>\n",
       "      <th>0</th>\n",
       "      <td>1</td>\n",
       "      <td>19</td>\n",
       "      <td>15</td>\n",
       "      <td>39</td>\n",
       "    </tr>\n",
       "    <tr>\n",
       "      <th>1</th>\n",
       "      <td>1</td>\n",
       "      <td>21</td>\n",
       "      <td>15</td>\n",
       "      <td>81</td>\n",
       "    </tr>\n",
       "    <tr>\n",
       "      <th>2</th>\n",
       "      <td>0</td>\n",
       "      <td>20</td>\n",
       "      <td>16</td>\n",
       "      <td>6</td>\n",
       "    </tr>\n",
       "    <tr>\n",
       "      <th>3</th>\n",
       "      <td>0</td>\n",
       "      <td>23</td>\n",
       "      <td>16</td>\n",
       "      <td>77</td>\n",
       "    </tr>\n",
       "    <tr>\n",
       "      <th>4</th>\n",
       "      <td>0</td>\n",
       "      <td>31</td>\n",
       "      <td>17</td>\n",
       "      <td>40</td>\n",
       "    </tr>\n",
       "  </tbody>\n",
       "</table>\n",
       "</div>"
      ],
      "text/plain": [
       "   Gender  Age  Annual Income (k$)  Spending Score (1-100)\n",
       "0       1   19                  15                      39\n",
       "1       1   21                  15                      81\n",
       "2       0   20                  16                       6\n",
       "3       0   23                  16                      77\n",
       "4       0   31                  17                      40"
      ]
     },
     "execution_count": 39,
     "metadata": {},
     "output_type": "execute_result"
    }
   ],
   "source": [
    "#independent\n",
    "x= data.drop(columns=['CustomerID','clust'],axis=1)\n",
    "x.head()"
   ]
  },
  {
   "cell_type": "code",
   "execution_count": 40,
   "id": "8925a5cb",
   "metadata": {
    "id": "8925a5cb",
    "outputId": "a20e4517-a39f-401d-f736-8c7a754cd0ff"
   },
   "outputs": [
    {
     "data": {
      "text/html": [
       "<div>\n",
       "<style scoped>\n",
       "    .dataframe tbody tr th:only-of-type {\n",
       "        vertical-align: middle;\n",
       "    }\n",
       "\n",
       "    .dataframe tbody tr th {\n",
       "        vertical-align: top;\n",
       "    }\n",
       "\n",
       "    .dataframe thead th {\n",
       "        text-align: right;\n",
       "    }\n",
       "</style>\n",
       "<table border=\"1\" class=\"dataframe\">\n",
       "  <thead>\n",
       "    <tr style=\"text-align: right;\">\n",
       "      <th></th>\n",
       "      <th>Gender</th>\n",
       "      <th>Age</th>\n",
       "      <th>Annual Income (k$)</th>\n",
       "      <th>Spending Score (1-100)</th>\n",
       "    </tr>\n",
       "  </thead>\n",
       "  <tbody>\n",
       "    <tr>\n",
       "      <th>195</th>\n",
       "      <td>0</td>\n",
       "      <td>35</td>\n",
       "      <td>120</td>\n",
       "      <td>79</td>\n",
       "    </tr>\n",
       "    <tr>\n",
       "      <th>196</th>\n",
       "      <td>0</td>\n",
       "      <td>45</td>\n",
       "      <td>126</td>\n",
       "      <td>28</td>\n",
       "    </tr>\n",
       "    <tr>\n",
       "      <th>197</th>\n",
       "      <td>1</td>\n",
       "      <td>32</td>\n",
       "      <td>126</td>\n",
       "      <td>74</td>\n",
       "    </tr>\n",
       "    <tr>\n",
       "      <th>198</th>\n",
       "      <td>1</td>\n",
       "      <td>32</td>\n",
       "      <td>60</td>\n",
       "      <td>18</td>\n",
       "    </tr>\n",
       "    <tr>\n",
       "      <th>199</th>\n",
       "      <td>1</td>\n",
       "      <td>30</td>\n",
       "      <td>60</td>\n",
       "      <td>83</td>\n",
       "    </tr>\n",
       "  </tbody>\n",
       "</table>\n",
       "</div>"
      ],
      "text/plain": [
       "     Gender  Age  Annual Income (k$)  Spending Score (1-100)\n",
       "195       0   35                 120                      79\n",
       "196       0   45                 126                      28\n",
       "197       1   32                 126                      74\n",
       "198       1   32                  60                      18\n",
       "199       1   30                  60                      83"
      ]
     },
     "execution_count": 40,
     "metadata": {},
     "output_type": "execute_result"
    }
   ],
   "source": [
    "x.tail()"
   ]
  },
  {
   "cell_type": "markdown",
   "id": "55027329",
   "metadata": {
    "id": "55027329"
   },
   "source": [
    "# 12. Split the data into training and testing"
   ]
  },
  {
   "cell_type": "code",
   "execution_count": 41,
   "id": "8c768efa",
   "metadata": {
    "id": "8c768efa"
   },
   "outputs": [],
   "source": [
    "from sklearn.model_selection import train_test_split"
   ]
  },
  {
   "cell_type": "code",
   "execution_count": 42,
   "id": "65a64d15",
   "metadata": {
    "id": "65a64d15"
   },
   "outputs": [],
   "source": [
    "x_train,x_test,y_train,y_test=train_test_split(x,y,test_size=0.2,random_state=0)"
   ]
  },
  {
   "cell_type": "markdown",
   "id": "1f083fee",
   "metadata": {
    "id": "1f083fee"
   },
   "source": [
    "# 13. Build the Model"
   ]
  },
  {
   "cell_type": "code",
   "execution_count": 43,
   "id": "2e2f691a",
   "metadata": {
    "id": "2e2f691a"
   },
   "outputs": [],
   "source": [
    "from sklearn.ensemble import RandomForestClassifier"
   ]
  },
  {
   "cell_type": "code",
   "execution_count": 44,
   "id": "97db8fd0",
   "metadata": {
    "id": "97db8fd0"
   },
   "outputs": [],
   "source": [
    "rf=RandomForestClassifier()"
   ]
  },
  {
   "cell_type": "markdown",
   "id": "b939506d",
   "metadata": {
    "id": "b939506d"
   },
   "source": [
    "# 14. Train the Model"
   ]
  },
  {
   "cell_type": "code",
   "execution_count": 45,
   "id": "f4011fa5",
   "metadata": {
    "id": "f4011fa5",
    "outputId": "9fbe14ae-e272-4663-dfb3-aabc77a852cf"
   },
   "outputs": [
    {
     "data": {
      "text/plain": [
       "RandomForestClassifier()"
      ]
     },
     "execution_count": 45,
     "metadata": {},
     "output_type": "execute_result"
    }
   ],
   "source": [
    "rf.fit(x_train,y_train)"
   ]
  },
  {
   "cell_type": "markdown",
   "id": "191ebf9e",
   "metadata": {
    "id": "191ebf9e"
   },
   "source": [
    "# 15. Test the Model"
   ]
  },
  {
   "cell_type": "code",
   "execution_count": 46,
   "id": "c56c5f8b",
   "metadata": {
    "id": "c56c5f8b"
   },
   "outputs": [],
   "source": [
    "#prediction\n",
    "pred=rf.predict(x_test)"
   ]
  },
  {
   "cell_type": "markdown",
   "id": "0faa2234",
   "metadata": {
    "id": "0faa2234"
   },
   "source": [
    "# 16. Measure the performance using Evaluvation Metrics"
   ]
  },
  {
   "cell_type": "code",
   "execution_count": 47,
   "id": "614c42c3",
   "metadata": {
    "id": "614c42c3",
    "outputId": "1f8f4b50-5954-4bb3-8cb4-1c74981390d9"
   },
   "outputs": [
    {
     "data": {
      "text/plain": [
       "0.975"
      ]
     },
     "execution_count": 47,
     "metadata": {},
     "output_type": "execute_result"
    }
   ],
   "source": [
    "# Accuracy of DI model\n",
    "from sklearn.metrics import accuracy_score\n",
    "accuracy_score(y_test,pred)"
   ]
  },
  {
   "cell_type": "code",
   "execution_count": 48,
   "id": "a569b1b6",
   "metadata": {
    "id": "a569b1b6",
    "outputId": "9cccca0d-ebf9-41a7-abd9-49dd99e06fbe"
   },
   "outputs": [
    {
     "data": {
      "text/plain": [
       "array([[ 8,  0,  1,  0],\n",
       "       [ 0, 10,  0,  0],\n",
       "       [ 0,  0, 13,  0],\n",
       "       [ 0,  0,  0,  8]], dtype=int64)"
      ]
     },
     "execution_count": 48,
     "metadata": {},
     "output_type": "execute_result"
    }
   ],
   "source": [
    "#confusion matrix\n",
    "from sklearn import metrics\n",
    "metrics.confusion_matrix(y_test,pred)"
   ]
  }
 ],
 "metadata": {
  "colab": {
   "collapsed_sections": [
    "6718d9d0",
    "494a1b9c"
   ],
   "provenance": []
  },
  "kernelspec": {
   "display_name": "Python 3 (ipykernel)",
   "language": "python",
   "name": "python3"
  },
  "language_info": {
   "codemirror_mode": {
    "name": "ipython",
    "version": 3
   },
   "file_extension": ".py",
   "mimetype": "text/x-python",
   "name": "python",
   "nbconvert_exporter": "python",
   "pygments_lexer": "ipython3",
   "version": "3.9.12"
  }
 },
 "nbformat": 4,
 "nbformat_minor": 5
}
